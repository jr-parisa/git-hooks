{
 "cells": [
  {
   "cell_type": "code",
   "execution_count": 1,
   "id": "ec627dc3-bc08-4f33-90b8-e39b358bb275",
   "metadata": {
    "editable": true,
    "slideshow": {
     "slide_type": ""
    },
    "tags": []
   },
   "outputs": [],
   "source": [
    "import pandas as pd"
   ]
  },
  {
   "cell_type": "code",
   "execution_count": 2,
   "id": "3985cf69-c0f2-49b3-b7ed-a26a431b5010",
   "metadata": {
    "editable": true,
    "slideshow": {
     "slide_type": ""
    },
    "tags": []
   },
   "outputs": [],
   "source": [
    "# Load the records data\n",
    "records = pd.read_csv(\n",
    "    \"https://raw.githubusercontent.com/rfordatascience/tidytuesday/master/data/2021/2021-05-25/records.csv\"\n",
    ")"
   ]
  },
  {
   "cell_type": "code",
   "execution_count": 3,
   "id": "48512042-06a1-474c-b978-4829970ec11f",
   "metadata": {
    "editable": true,
    "slideshow": {
     "slide_type": ""
    },
    "tags": []
   },
   "outputs": [],
   "source": [
    "# Filter the data\n",
    "rainbow_road = records.loc[\n",
    "        (records[\"track\"] == \"Rainbow Road\") &\n",
    "        (records[\"type\"] == \"Three Lap\")\n",
    "].reset_index()"
   ]
  },
  {
   "cell_type": "code",
   "execution_count": 4,
   "id": "9f7debd4-e35c-40d4-802a-634c27154169",
   "metadata": {
    "editable": true,
    "slideshow": {
     "slide_type": ""
    },
    "tags": []
   },
   "outputs": [
    {
     "data": {
      "text/html": [
       "<div>\n",
       "<style scoped>\n",
       "    .dataframe tbody tr th:only-of-type {\n",
       "        vertical-align: middle;\n",
       "    }\n",
       "\n",
       "    .dataframe tbody tr th {\n",
       "        vertical-align: top;\n",
       "    }\n",
       "\n",
       "    .dataframe thead th {\n",
       "        text-align: right;\n",
       "    }\n",
       "</style>\n",
       "<table border=\"1\" class=\"dataframe\">\n",
       "  <thead>\n",
       "    <tr style=\"text-align: right;\">\n",
       "      <th></th>\n",
       "      <th>index</th>\n",
       "      <th>track</th>\n",
       "      <th>type</th>\n",
       "      <th>shortcut</th>\n",
       "      <th>player</th>\n",
       "      <th>system_played</th>\n",
       "      <th>date</th>\n",
       "      <th>time_period</th>\n",
       "      <th>time</th>\n",
       "      <th>record_duration</th>\n",
       "    </tr>\n",
       "  </thead>\n",
       "  <tbody>\n",
       "    <tr>\n",
       "      <th>0</th>\n",
       "      <td>2155</td>\n",
       "      <td>Rainbow Road</td>\n",
       "      <td>Three Lap</td>\n",
       "      <td>No</td>\n",
       "      <td>Booth</td>\n",
       "      <td>NTSC</td>\n",
       "      <td>1997-05-27</td>\n",
       "      <td>6M 15.83S</td>\n",
       "      <td>375.83</td>\n",
       "      <td>92</td>\n",
       "    </tr>\n",
       "    <tr>\n",
       "      <th>1</th>\n",
       "      <td>2156</td>\n",
       "      <td>Rainbow Road</td>\n",
       "      <td>Three Lap</td>\n",
       "      <td>No</td>\n",
       "      <td>Jonathan</td>\n",
       "      <td>NTSC</td>\n",
       "      <td>1997-08-27</td>\n",
       "      <td>6M 9.67S</td>\n",
       "      <td>369.67</td>\n",
       "      <td>140</td>\n",
       "    </tr>\n",
       "    <tr>\n",
       "      <th>2</th>\n",
       "      <td>2157</td>\n",
       "      <td>Rainbow Road</td>\n",
       "      <td>Three Lap</td>\n",
       "      <td>No</td>\n",
       "      <td>Zwartjes</td>\n",
       "      <td>PAL</td>\n",
       "      <td>1998-01-14</td>\n",
       "      <td>6M 8.69S</td>\n",
       "      <td>368.69</td>\n",
       "      <td>58</td>\n",
       "    </tr>\n",
       "    <tr>\n",
       "      <th>3</th>\n",
       "      <td>2158</td>\n",
       "      <td>Rainbow Road</td>\n",
       "      <td>Three Lap</td>\n",
       "      <td>No</td>\n",
       "      <td>Jonathan</td>\n",
       "      <td>NTSC</td>\n",
       "      <td>1998-03-13</td>\n",
       "      <td>6M 5.51S</td>\n",
       "      <td>365.51</td>\n",
       "      <td>173</td>\n",
       "    </tr>\n",
       "    <tr>\n",
       "      <th>4</th>\n",
       "      <td>2159</td>\n",
       "      <td>Rainbow Road</td>\n",
       "      <td>Three Lap</td>\n",
       "      <td>No</td>\n",
       "      <td>Penev</td>\n",
       "      <td>PAL</td>\n",
       "      <td>1998-09-02</td>\n",
       "      <td>6M 4.15S</td>\n",
       "      <td>364.15</td>\n",
       "      <td>9</td>\n",
       "    </tr>\n",
       "  </tbody>\n",
       "</table>\n",
       "</div>"
      ],
      "text/plain": [
       "   index         track       type shortcut    player system_played  \\\n",
       "0   2155  Rainbow Road  Three Lap       No     Booth          NTSC   \n",
       "1   2156  Rainbow Road  Three Lap       No  Jonathan          NTSC   \n",
       "2   2157  Rainbow Road  Three Lap       No  Zwartjes           PAL   \n",
       "3   2158  Rainbow Road  Three Lap       No  Jonathan          NTSC   \n",
       "4   2159  Rainbow Road  Three Lap       No     Penev           PAL   \n",
       "\n",
       "         date time_period    time  record_duration  \n",
       "0  1997-05-27   6M 15.83S  375.83               92  \n",
       "1  1997-08-27    6M 9.67S  369.67              140  \n",
       "2  1998-01-14    6M 8.69S  368.69               58  \n",
       "3  1998-03-13    6M 5.51S  365.51              173  \n",
       "4  1998-09-02    6M 4.15S  364.15                9  "
      ]
     },
     "execution_count": 4,
     "metadata": {},
     "output_type": "execute_result"
    }
   ],
   "source": [
    "# View the data\n",
    "rainbow_road.head()"
   ]
  },
  {
   "cell_type": "code",
   "execution_count": null,
   "id": "1500586e-84d1-4690-99cb-8f02f1955f85",
   "metadata": {
    "editable": true,
    "slideshow": {
     "slide_type": ""
    },
    "tags": []
   },
   "outputs": [],
   "source": []
  }
 ],
 "metadata": {
  "kernelspec": {
   "display_name": "Python [conda env:machine-learning-env]",
   "language": "python",
   "name": "conda-env-machine-learning-env-py"
  },
  "language_info": {
   "codemirror_mode": {
    "name": "ipython",
    "version": 3
   },
   "file_extension": ".py",
   "mimetype": "text/x-python",
   "name": "python",
   "nbconvert_exporter": "python",
   "pygments_lexer": "ipython3",
   "version": "3.10.13"
  }
 },
 "nbformat": 4,
 "nbformat_minor": 5
}
